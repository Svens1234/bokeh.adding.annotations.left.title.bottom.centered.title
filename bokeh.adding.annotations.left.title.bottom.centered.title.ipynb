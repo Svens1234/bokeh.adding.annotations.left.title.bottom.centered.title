{
 "cells": [
  {
   "cell_type": "code",
   "execution_count": 1,
   "id": "82e52ae8",
   "metadata": {},
   "outputs": [],
   "source": [
    "from bokeh.models import Title\n",
    "from bokeh.plotting import figure, output_file, show"
   ]
  },
  {
   "cell_type": "code",
   "execution_count": 2,
   "id": "37e3618f",
   "metadata": {},
   "outputs": [],
   "source": [
    "p = figure(title=\"Left Title\", title_location=\"left\",\n",
    "           width=300, height=300)\n",
    "p.circle([1,2], [3,4])\n",
    "\n",
    "# add extra titles with add_layout(...)\n",
    "p.add_layout(Title(text=\"Bottom Centered Title\", align=\"center\"), \"below\")\n",
    "\n",
    "output_file(\"title.html\")\n",
    "\n",
    "show(p)"
   ]
  },
  {
   "cell_type": "code",
   "execution_count": null,
   "id": "91f42992",
   "metadata": {},
   "outputs": [],
   "source": []
  }
 ],
 "metadata": {
  "kernelspec": {
   "display_name": "Python 3 (ipykernel)",
   "language": "python",
   "name": "python3"
  },
  "language_info": {
   "codemirror_mode": {
    "name": "ipython",
    "version": 3
   },
   "file_extension": ".py",
   "mimetype": "text/x-python",
   "name": "python",
   "nbconvert_exporter": "python",
   "pygments_lexer": "ipython3",
   "version": "3.10.5"
  }
 },
 "nbformat": 4,
 "nbformat_minor": 5
}
